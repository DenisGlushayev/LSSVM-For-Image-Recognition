{
  "cells": [
    {
      "cell_type": "markdown",
      "metadata": {
        "id": "5lVYyiKTJIlr"
      },
      "source": [
        "<center><h1>Least Squares Support Vector Classifier</h1></center>"
      ]
    },
    {
      "cell_type": "code",
      "execution_count": null,
      "metadata": {
        "colab": {
          "base_uri": "https://localhost:8080/"
        },
        "id": "KoG_N55XJK6a",
        "outputId": "85dd4415-12d4-4d83-c837-591946a665fe"
      },
      "outputs": [
        {
          "output_type": "stream",
          "name": "stdout",
          "text": [
            "Drive already mounted at /content/drive; to attempt to forcibly remount, call drive.mount(\"/content/drive\", force_remount=True).\n"
          ]
        }
      ],
      "source": [
        "from google.colab import drive\n",
        "drive.mount('/content/drive')"
      ]
    },
    {
      "cell_type": "code",
      "execution_count": null,
      "metadata": {
        "id": "MohMQlXDNWCq"
      },
      "outputs": [],
      "source": [
        "import sys\n",
        "sys.path.append('/content/drive/My Drive/LSSVM-master')\n"
      ]
    },
    {
      "cell_type": "markdown",
      "metadata": {
        "id": "8MLkZ8FLJIlu"
      },
      "source": [
        "## Summary:\n",
        "1. [Introduction](#introduction)\n",
        "\n",
        "\n",
        "2. [Using the classifier](#using_classifier)\n",
        "\n",
        "    2.1 [CPU/Numpy version](#cpu_version)\n",
        "    \n",
        "    2.2 [GPU/PyTorch version](#gpu_version)"
      ]
    },
    {
      "cell_type": "markdown",
      "metadata": {
        "id": "iXxsEfD-JIlv"
      },
      "source": [
        "# 1. Introduction <a class=\"anchor\" id=\"introduction\"></a>"
      ]
    },
    {
      "cell_type": "markdown",
      "metadata": {
        "id": "dBTSojiGJIlw"
      },
      "source": [
        "The Least Squares Support Vector Machine (LSSVM) is a variation of the original Support Vector Machine (SVM) in which we have a slight change in the objective and restriction functions that results in a big simplification of the optimization problem.\n",
        "\n",
        "First, let's see the optimization problem of an SVM:\n",
        "\n",
        "$$\n",
        "\\begin{align}\n",
        "    minimize && f_o(\\vec{w},\\vec{\\xi})=\\frac{1}{2} \\vec{w}^T\\vec{w} + C \\sum_{i=1}^{n} \\xi_i &&\\\\\n",
        "    s.t. && y_i(\\vec{w}^T\\vec{x}_i+b)\\geq 1 - \\xi_i, && i = 1,..., n \\\\\n",
        "         && \\xi_i \\geq 0,                            && i = 1,..., n\n",
        "\\end{align}\n",
        "$$\n",
        "\n",
        "In this case, we have a set of inequality restrictions and when solving the optimization problem by it's dual we find a discriminative function, adding the kernel trick, of the type:\n",
        "\n",
        "\n",
        "$$ f(\\vec{x}) = sign \\ \\Big( \\sum_{i=1}^{n} \\alpha_i^o y_i K(\\vec{x}_i,\\vec{x}) + b_o \\Big) $$\n",
        "\n",
        "Where $\\alpha_i^o$ and $b_o$ denote optimum values. Giving enough regularization (smaller values of $C$) we get a lot of $\\alpha_i^o$ nulls, resulting in a sparse model in which we only need to save the pairs $(\\vec{x}_i,y_i)$ which have the optimum dual variable not null. The vectors $\\vec{x}_i$ with not null $\\alpha_i^o$ are known as support vectors (SV).\n",
        "\n",
        "\n",
        "\n",
        "In the LSSVM case, we change the inequality restrictions to equality restrictions. As the $\\xi_i$ may be negative we square its values in the objective function:\n",
        "\n",
        "$$\n",
        "\\begin{align}\n",
        "    minimize && f_o(\\vec{w},\\vec{\\xi})=\\frac{1}{2} \\vec{w}^T\\vec{w} + \\gamma \\frac{1}{2}\\sum_{i=1}^{n} \\xi_i^2 &&\\\\\n",
        "    s.t. && y_i(\\vec{w}^T\\vec{x}_i+b) = 1 - \\xi_i, && i = 1,..., n\n",
        "\\end{align}\n",
        "$$\n",
        "\n",
        "\n",
        "The dual of this optimization problem results in a system of linear equations, a set of Karush-Khun-Tucker (KKT) equations:\n",
        "\n",
        "$$\n",
        "\\begin{bmatrix}\n",
        "    0 & \\vec{d}^T \\\\\n",
        "    \\vec{y} & \\Omega + \\gamma^{-1} I\n",
        "\\end{bmatrix}\n",
        "\\\n",
        "\\begin{bmatrix}\n",
        "    b  \\\\\n",
        "    \\vec{\\alpha}\n",
        "\\end{bmatrix}\n",
        "=\n",
        "\\begin{bmatrix}\n",
        "    0 \\\\\n",
        "    \\vec{1}\n",
        "\\end{bmatrix}\n",
        "$$\n",
        "\n",
        "Where, with the kernel trick, &nbsp; $\\Omega_{i,j} = y_i y_j K(\\vec{x}_i,\\vec{x}_j)$,  &nbsp;  $\\vec{y} = [y_1 \\ y_2 \\ ... \\ y_n]^T$, &nbsp; $\\vec{\\alpha} = [\\alpha_1 \\ \\alpha_2 \\ ... \\ \\alpha_n]^T$ &nbsp;  e &nbsp; $\\vec{1} = [1 \\ 1 \\ ... \\ 1]^T$.\n",
        "\n",
        "The discriminative function of the LSSVM has the same form of the SVM but the $\\alpha_i^o$ aren't usually null, resulting in a bigger model. The big advantage of the LSSVM is in finding it's parameters, which is reduced to solving the linear system of the type:\n",
        "\n",
        "$$ A\\vec{z} = \\vec{b} $$\n",
        "\n",
        "A well-known solution of the linear system is when we minimize the square of the residues, that can be written as the optimization problem:\n",
        "\n",
        "$$\n",
        "\\begin{align}\n",
        "    minimize && f_o(\\vec{z})=\\frac{1}{2}||A\\vec{z} - \\vec{b}||^2\\\\\n",
        "\\end{align}\n",
        "$$\n",
        "\n",
        "And have the analytical solution:\n",
        "\n",
        "$$ \\vec{z} = A^{\\dagger} \\vec{b} $$\n",
        "\n",
        "Where $A^{\\dagger}$ is the pseudo-inverse defined as:\n",
        "\n",
        "$$ A^{\\dagger} = (A^T A)^{-1} A^T$$"
      ]
    },
    {
      "cell_type": "markdown",
      "metadata": {
        "id": "JcYoO5HmJIlw"
      },
      "source": [
        "# 2. Using the classifier <a class=\"anchor\" id=\"using_classifier\"></a>"
      ]
    },
    {
      "cell_type": "code",
      "execution_count": null,
      "metadata": {
        "id": "Uc7awTG7JIlx"
      },
      "outputs": [],
      "source": [
        "import numpy as np\n",
        "from sklearn.model_selection import train_test_split\n",
        "from sklearn.metrics import accuracy_score\n",
        "from sklearn.metrics import precision_score, recall_score, f1_score\n",
        "from sklearn.metrics import confusion_matrix\n",
        "from sklearn.datasets import load_digits, fetch_olivetti_faces,fetch_lfw_people\n",
        "from sklearn.preprocessing import MinMaxScaler\n",
        "import tensorflow as tf\n",
        "from tensorflow.keras.datasets import cifar10\n",
        "\n",
        "\n",
        "from lssvm import LSSVC, LSSVC_GPU\n",
        "from utils.encoding import dummie2multilabel"
      ]
    },
    {
      "cell_type": "code",
      "execution_count": null,
      "metadata": {
        "colab": {
          "base_uri": "https://localhost:8080/"
        },
        "id": "M3mnoadiJIlz",
        "outputId": "e43f3fce-5445-4727-8413-401674826c1d"
      },
      "outputs": [
        {
          "name": "stdout",
          "output_type": "stream",
          "text": [
            "X_train.shape: (1078, 64)\n",
            "X_test.shape:  (719, 64)\n",
            "y_train.shape: (1078,)\n",
            "y_test.shape:  (719,)\n",
            "np.unique(y_train): [0 1 2 3 4 5 6 7 8 9]\n",
            "np.unique(y_test):  [0 1 2 3 4 5 6 7 8 9]\n"
          ]
        }
      ],
      "source": [
        "# Preprocessing\n",
        "\n",
        "# Import digits recognition dataset (from sklearn)\n",
        "X, y = load_digits(return_X_y=True)\n",
        "X_train, X_test, y_train, y_test = train_test_split(X, y, test_size=0.4, random_state=2020)\n",
        "\n",
        "# Scaling features (from sklearn)\n",
        "scaler = MinMaxScaler()\n",
        "scaler.fit(X_train)\n",
        "X_tr_norm = scaler.transform(X_train)\n",
        "X_ts_norm = scaler.transform(X_test)\n",
        "\n",
        "# Get information about input and outputs\n",
        "print(f\"X_train.shape: {X_train.shape}\")\n",
        "print(f\"X_test.shape:  {X_test.shape}\")\n",
        "print(f\"y_train.shape: {y_train.shape}\")\n",
        "print(f\"y_test.shape:  {y_test.shape}\")\n",
        "print(f\"np.unique(y_train): {np.unique(y_train)}\")\n",
        "print(f\"np.unique(y_test):  {np.unique(y_test)}\")"
      ]
    },
    {
      "cell_type": "markdown",
      "metadata": {
        "id": "k_AF_dLRJIl0"
      },
      "source": [
        "## 2.1 CPU/Numpy version <a class=\"anchor\" id=\"cpu_version\"></a>"
      ]
    },
    {
      "cell_type": "code",
      "execution_count": null,
      "metadata": {
        "colab": {
          "base_uri": "https://localhost:8080/"
        },
        "id": "J2c7S9clJIl0",
        "outputId": "d99ee272-ae7c-4196-ac53-8eb9fc07ba53"
      },
      "outputs": [
        {
          "name": "stdout",
          "output_type": "stream",
          "text": [
            "Classic MNIST\n",
            "Gaussian kernel:\n",
            "acc_test =  0.9680111265646731 \n",
            "\n",
            "precision =  0.9691141911658914 \n",
            "\n",
            "recall =  0.9680111265646731 \n",
            "\n",
            "f1 =  0.9653951004459118 \n",
            "\n",
            "Polynomial kernel:\n",
            "acc_test =  0.9944367176634215 \n",
            "\n",
            "precision =  0.9947184028450203 \n",
            "\n",
            "recall =  0.9944367176634215 \n",
            "\n",
            "f1 =  0.9945003025345661 \n",
            "\n",
            "Linear kernel:\n",
            "acc_test =  0.9791376912378303 \n",
            "\n",
            "precision =  0.9803825707180638 \n",
            "\n",
            "recall =  0.9791376912378303 \n",
            "\n",
            "f1 =  0.9795457737105719 \n",
            "\n"
          ]
        }
      ],
      "source": [
        "# Use the classifier with different kernels\n",
        "print(\"Classic MNIST\")\n",
        "print('Gaussian kernel:')\n",
        "lssvc = LSSVC(gamma=1, kernel='rbf', sigma=.5) # Class instantiation\n",
        "lssvc.fit(X_tr_norm, y_train) # Fitting the model\n",
        "y_pred = lssvc.predict(X_ts_norm) # Making predictions with the trained model\n",
        "acc = accuracy_score(dummie2multilabel(y_test), dummie2multilabel(y_pred)) # Calculate Accuracy\n",
        "precision = precision_score(dummie2multilabel(y_test), dummie2multilabel(y_pred), average='weighted')\n",
        "recall = recall_score(dummie2multilabel(y_test), dummie2multilabel(y_pred), average='weighted')\n",
        "f1 = f1_score(dummie2multilabel(y_test), dummie2multilabel(y_pred), average='weighted')\n",
        "print('acc_test = ', acc)\n",
        "print('precision = ', precision)\n",
        "print('recall = ', recall)\n",
        "print('f1 = ', f1, '\\n')\n",
        "\n",
        "print('Polynomial kernel:')\n",
        "lssvc = LSSVC(gamma=1, kernel='poly', d=2)\n",
        "lssvc.fit(X_tr_norm, y_train)\n",
        "y_pred = lssvc.predict(X_ts_norm)\n",
        "acc = accuracy_score(dummie2multilabel(y_test), dummie2multilabel(y_pred))\n",
        "precision = precision_score(dummie2multilabel(y_test), dummie2multilabel(y_pred), average='weighted')\n",
        "recall = recall_score(dummie2multilabel(y_test), dummie2multilabel(y_pred), average='weighted')\n",
        "f1 = f1_score(dummie2multilabel(y_test), dummie2multilabel(y_pred), average='weighted')\n",
        "print('acc_test = ', acc)\n",
        "print('precision = ', precision)\n",
        "print('recall = ', recall)\n",
        "print('f1 = ', f1, '\\n')\n",
        "\n",
        "print('Linear kernel:')\n",
        "lssvc = LSSVC(gamma=1, kernel='linear')\n",
        "lssvc.fit(X_tr_norm, y_train)\n",
        "y_pred = lssvc.predict(X_ts_norm)\n",
        "acc = accuracy_score(dummie2multilabel(y_test), dummie2multilabel(y_pred))\n",
        "precision = precision_score(dummie2multilabel(y_test), dummie2multilabel(y_pred), average='weighted')\n",
        "recall = recall_score(dummie2multilabel(y_test), dummie2multilabel(y_pred), average='weighted')\n",
        "f1 = f1_score(dummie2multilabel(y_test), dummie2multilabel(y_pred), average='weighted')\n",
        "print('acc_test = ', acc)\n",
        "print('precision = ', precision)\n",
        "print('recall = ', recall)\n",
        "print('f1 = ', f1, '\\n')\n"
      ]
    },
    {
      "cell_type": "code",
      "execution_count": null,
      "metadata": {
        "colab": {
          "base_uri": "https://localhost:8080/"
        },
        "id": "xz6-rAbrpdTw",
        "outputId": "04141d9f-d282-4335-c914-db4e0ea4fce3"
      },
      "outputs": [
        {
          "name": "stdout",
          "output_type": "stream",
          "text": [
            "X_train.shape: (240, 4096)\n",
            "X_test.shape:  (160, 4096)\n",
            "y_train.shape: (240,)\n",
            "y_test.shape:  (160,)\n",
            "np.unique(y_train): [ 0  1  2  3  4  5  6  7  8  9 10 11 12 13 14 15 16 17 18 19 20 21 22 23\n",
            " 24 25 26 27 28 29 30 31 32 33 34 35 36 37 38 39]\n",
            "np.unique(y_test):  [ 0  1  2  3  4  5  6  7  8  9 10 11 12 13 14 15 16 17 18 19 20 21 22 23\n",
            " 24 25 26 27 28 29 30 31 33 34 35 36 37 38 39]\n"
          ]
        }
      ],
      "source": [
        "# Preprocessing\n",
        "\n",
        "X, y = fetch_olivetti_faces(return_X_y=True)\n",
        "X_train, X_test, y_train, y_test = train_test_split(X, y, test_size=0.4, random_state=2020)\n",
        "\n",
        "# Scaling features (from sklearn)\n",
        "scaler = MinMaxScaler()\n",
        "scaler.fit(X_train)\n",
        "X_tr_norm = scaler.transform(X_train)\n",
        "X_ts_norm = scaler.transform(X_test)\n",
        "\n",
        "# Get information about input and outputs\n",
        "print(f\"X_train.shape: {X_train.shape}\")\n",
        "print(f\"X_test.shape:  {X_test.shape}\")\n",
        "print(f\"y_train.shape: {y_train.shape}\")\n",
        "print(f\"y_test.shape:  {y_test.shape}\")\n",
        "print(f\"np.unique(y_train): {np.unique(y_train)}\")\n",
        "print(f\"np.unique(y_test):  {np.unique(y_test)}\")"
      ]
    },
    {
      "cell_type": "code",
      "execution_count": null,
      "metadata": {
        "colab": {
          "base_uri": "https://localhost:8080/"
        },
        "id": "Q7eMnnZDp9Dx",
        "outputId": "ccdad900-24f4-45fb-d879-eff131ce28fd"
      },
      "outputs": [
        {
          "name": "stdout",
          "output_type": "stream",
          "text": [
            "'Olivetti facces\n",
            "Gaussian kernel:\n"
          ]
        },
        {
          "name": "stderr",
          "output_type": "stream",
          "text": [
            "/usr/local/lib/python3.10/dist-packages/sklearn/metrics/_classification.py:1344: UndefinedMetricWarning: Precision is ill-defined and being set to 0.0 in labels with no predicted samples. Use `zero_division` parameter to control this behavior.\n",
            "  _warn_prf(average, modifier, msg_start, len(result))\n"
          ]
        },
        {
          "name": "stdout",
          "output_type": "stream",
          "text": [
            "acc_test =  0.98125\n",
            "precision =  0.9628515625\n",
            "recall =  0.98125\n",
            "f1 =  0.9719637223974763 \n",
            "\n",
            "Polynomial kernel:\n",
            "acc_test =  1.0\n",
            "precision =  1.0\n",
            "recall =  1.0\n",
            "f1 =  1.0 \n",
            "\n",
            "Linear kernel:\n",
            "acc_test =  1.0\n",
            "precision =  1.0\n",
            "recall =  1.0\n",
            "f1 =  1.0 \n",
            "\n"
          ]
        }
      ],
      "source": [
        "# Use the classifier with different kernels\n",
        "print(\"'Olivetti facces\")\n",
        "print('Gaussian kernel:')\n",
        "lssvc = LSSVC(gamma=1, kernel='rbf', sigma=.5) # Class instantiation\n",
        "lssvc.fit(X_tr_norm, y_train) # Fitting the model\n",
        "y_pred = lssvc.predict(X_ts_norm) # Making predictions with the trained model\n",
        "acc = accuracy_score(dummie2multilabel(y_test), dummie2multilabel(y_pred)) # Calculate Accuracy\n",
        "precision = precision_score(dummie2multilabel(y_test), dummie2multilabel(y_pred), average='weighted')\n",
        "recall = recall_score(dummie2multilabel(y_test), dummie2multilabel(y_pred), average='weighted')\n",
        "f1 = f1_score(dummie2multilabel(y_test), dummie2multilabel(y_pred), average='weighted')\n",
        "print('acc_test = ', acc)\n",
        "print('precision = ', precision)\n",
        "print('recall = ', recall)\n",
        "print('f1 = ', f1, '\\n')\n",
        "\n",
        "print('Polynomial kernel:')\n",
        "lssvc = LSSVC(gamma=1, kernel='poly', d=2)\n",
        "lssvc.fit(X_tr_norm, y_train)\n",
        "y_pred = lssvc.predict(X_ts_norm)\n",
        "acc = accuracy_score(dummie2multilabel(y_test), dummie2multilabel(y_pred))\n",
        "precision = precision_score(dummie2multilabel(y_test), dummie2multilabel(y_pred), average='weighted')\n",
        "recall = recall_score(dummie2multilabel(y_test), dummie2multilabel(y_pred), average='weighted')\n",
        "f1 = f1_score(dummie2multilabel(y_test), dummie2multilabel(y_pred), average='weighted')\n",
        "print('acc_test = ', acc)\n",
        "print('precision = ', precision)\n",
        "print('recall = ', recall)\n",
        "print('f1 = ', f1, '\\n')\n",
        "\n",
        "print('Linear kernel:')\n",
        "lssvc = LSSVC(gamma=1, kernel='linear')\n",
        "lssvc.fit(X_tr_norm, y_train)\n",
        "y_pred = lssvc.predict(X_ts_norm)\n",
        "acc = accuracy_score(dummie2multilabel(y_test), dummie2multilabel(y_pred))\n",
        "precision = precision_score(dummie2multilabel(y_test), dummie2multilabel(y_pred), average='weighted')\n",
        "recall = recall_score(dummie2multilabel(y_test), dummie2multilabel(y_pred), average='weighted')\n",
        "f1 = f1_score(dummie2multilabel(y_test), dummie2multilabel(y_pred), average='weighted')\n",
        "print('acc_test = ', acc)\n",
        "print('precision = ', precision)\n",
        "print('recall = ', recall)\n",
        "print('f1 = ', f1, '\\n')"
      ]
    },
    {
      "cell_type": "code",
      "execution_count": null,
      "metadata": {
        "colab": {
          "base_uri": "https://localhost:8080/"
        },
        "id": "t5lebT76G5yT",
        "outputId": "62f74d0e-0362-4f78-ff81-a557070ebccc"
      },
      "outputs": [
        {
          "name": "stdout",
          "output_type": "stream",
          "text": [
            "X_train.shape: (50000, 32, 32, 3)\n",
            "X_test.shape:  (10000, 32, 32, 3)\n",
            "y_train.shape: (10000, 1)\n",
            "y_test.shape:  (40000, 1)\n",
            "np.unique(y_train): [0 1 2 3 4 5 6 7 8 9]\n",
            "np.unique(y_test):  [0 1 2 3 4 5 6 7 8 9]\n"
          ]
        }
      ],
      "source": [
        "# Preprocessing\n",
        "\n",
        "# Load CIFAR-10 dataset\n",
        "(X_train, y_train), (X_test, y_test) = cifar10.load_data()\n",
        "\n",
        "# Scale the features\n",
        "scaler = MinMaxScaler()\n",
        "scaler.fit(X_train.reshape(-1, 32*32*3))  # Reshape to apply scaling to individual pixel values\n",
        "x_train_norm = scaler.transform(X_train.reshape(-1, 32*32*3))\n",
        "x_test_norm = scaler.transform(X_test.reshape(-1, 32*32*3))\n",
        "\n",
        "# Split the data into 20% for training\n",
        "x_train_subset, x_val_subset, y_train_subset, y_val_subset = train_test_split(\n",
        "    x_train_norm, y_train, test_size=0.8, random_state=42)\n",
        "\n",
        "# # Further split the 10% for training and validation if needed\n",
        "# x_train_subset, x_val_subset, y_train_subset, y_val_subset = train_test_split(\n",
        "#     x_train_subset, y_train_subset, test_size=0.5, random_state=42)\n",
        "\n",
        "\n",
        "scaler = MinMaxScaler()\n",
        "scaler.fit(X_train.reshape(-1, 32*32*3))  # Reshape to apply scaling to individual pixel values\n",
        "x_train_norm = scaler.transform(X_train.reshape(-1, 32*32*3))\n",
        "x_test_norm = scaler.transform(X_test.reshape(-1, 32*32*3))\n",
        "\n",
        "\n",
        "X_tr_norm = x_train_subset\n",
        "X_ts_norm = x_val_subset\n",
        "y_train = y_train_subset\n",
        "y_test = y_val_subset\n",
        "# Get information about input and outputs\n",
        "print(f\"X_train.shape: {X_train.shape}\")\n",
        "print(f\"X_test.shape:  {X_test.shape}\")\n",
        "print(f\"y_train.shape: {y_train.shape}\")\n",
        "print(f\"y_test.shape:  {y_test.shape}\")\n",
        "print(f\"np.unique(y_train): {np.unique(y_train)}\")\n",
        "print(f\"np.unique(y_test):  {np.unique(y_test)}\")"
      ]
    },
    {
      "cell_type": "code",
      "execution_count": null,
      "metadata": {
        "colab": {
          "background_save": true,
          "base_uri": "https://localhost:8080/"
        },
        "id": "C1CVkAAtG7s0",
        "outputId": "757354d4-9d34-458c-a027-134dc0be5a26"
      },
      "outputs": [
        {
          "name": "stdout",
          "output_type": "stream",
          "text": [
            "Gaussian kernel:\n",
            "Total  10\n",
            "Label\n",
            "0\n",
            "Label\n",
            "1\n",
            "Label\n",
            "2\n",
            "Label\n",
            "3\n",
            "Label\n",
            "4\n",
            "Label\n",
            "5\n",
            "Label\n",
            "6\n",
            "Label\n",
            "7\n",
            "Label\n",
            "8\n",
            "Label\n",
            "9\n",
            "Total training time: 01:36:55\n"
          ]
        },
        {
          "name": "stderr",
          "output_type": "stream",
          "text": [
            "/usr/local/lib/python3.10/dist-packages/sklearn/metrics/_classification.py:1344: UndefinedMetricWarning: Precision is ill-defined and being set to 0.0 in labels with no predicted samples. Use `zero_division` parameter to control this behavior.\n",
            "  _warn_prf(average, modifier, msg_start, len(result))\n"
          ]
        },
        {
          "name": "stdout",
          "output_type": "stream",
          "text": [
            "acc_test =  0.899725\n",
            "precision =  0.809505075625\n",
            "recall =  0.899725\n",
            "f1 =  0.852233955572517 \n",
            "\n",
            "Polynomial kernel:\n",
            "Total  10\n",
            "Label\n",
            "0\n",
            "Label\n",
            "1\n",
            "Label\n",
            "2\n",
            "Label\n",
            "3\n",
            "Label\n",
            "4\n",
            "Label\n",
            "5\n",
            "Label\n",
            "6\n",
            "Label\n",
            "7\n",
            "Label\n",
            "8\n",
            "Label\n",
            "9\n",
            "Total training time: 01:02:38\n",
            "acc_test =  0.9099\n",
            "precision =  0.8923756098986593\n",
            "recall =  0.9099\n",
            "f1 =  0.8930190850899955 \n",
            "\n",
            "Linear kernel:\n",
            "Total  10\n",
            "Label\n",
            "0\n",
            "Label\n",
            "1\n",
            "Label\n",
            "2\n",
            "Label\n",
            "3\n",
            "Label\n",
            "4\n",
            "Label\n",
            "5\n",
            "Label\n",
            "6\n",
            "Label\n",
            "7\n",
            "Label\n",
            "8\n",
            "Label\n",
            "9\n",
            "Total training time: 00:59:38\n",
            "acc_test =  0.86735\n",
            "precision =  0.870146605085178\n",
            "recall =  0.86735\n",
            "f1 =  0.8687229347862653 \n",
            "\n"
          ]
        }
      ],
      "source": [
        "# Use the classifier with different kernels\n",
        "import time\n",
        "\n",
        "\n",
        "print('Gaussian kernel:')\n",
        "lssvc = LSSVC(gamma=1, kernel='rbf', sigma=.5) # Class instantiation\n",
        "\n",
        "start_time = time.time()\n",
        "lssvc.fit(X_tr_norm, y_train) # Fitting the model\n",
        "end_time = time.time()\n",
        "training_time_seconds = end_time - start_time\n",
        "training_time_formatted = time.strftime(\"%H:%M:%S\", time.gmtime(training_time_seconds))\n",
        "print(f\"Total training time: {training_time_formatted}\")\n",
        "\n",
        "y_pred = lssvc.predict(X_ts_norm) # Making predictions with the trained model\n",
        "acc = accuracy_score(dummie2multilabel(y_test), dummie2multilabel(y_pred)) # Calculate Accuracy\n",
        "precision = precision_score(dummie2multilabel(y_test), dummie2multilabel(y_pred), average='weighted')\n",
        "recall = recall_score(dummie2multilabel(y_test), dummie2multilabel(y_pred), average='weighted')\n",
        "f1 = f1_score(dummie2multilabel(y_test), dummie2multilabel(y_pred), average='weighted')\n",
        "print('acc_test = ', acc)\n",
        "print('precision = ', precision)\n",
        "print('recall = ', recall)\n",
        "print('f1 = ', f1, '\\n')\n",
        "\n",
        "\n",
        "\n",
        "\n",
        "\n",
        "\n",
        "\n",
        "\n",
        "\n",
        "\n",
        "print('Polynomial kernel:')\n",
        "lssvc = LSSVC(gamma=1, kernel='poly', d=2)\n",
        "\n",
        "start_time = time.time()\n",
        "lssvc.fit(X_tr_norm, y_train) # Fitting the model\n",
        "end_time = time.time()\n",
        "training_time_seconds = end_time - start_time\n",
        "training_time_formatted = time.strftime(\"%H:%M:%S\", time.gmtime(training_time_seconds))\n",
        "print(f\"Total training time: {training_time_formatted}\")\n",
        "\n",
        "\n",
        "y_pred = lssvc.predict(X_ts_norm)\n",
        "acc = accuracy_score(dummie2multilabel(y_test), dummie2multilabel(y_pred))\n",
        "precision = precision_score(dummie2multilabel(y_test), dummie2multilabel(y_pred), average='weighted')\n",
        "recall = recall_score(dummie2multilabel(y_test), dummie2multilabel(y_pred), average='weighted')\n",
        "f1 = f1_score(dummie2multilabel(y_test), dummie2multilabel(y_pred), average='weighted')\n",
        "print('acc_test = ', acc)\n",
        "print('precision = ', precision)\n",
        "print('recall = ', recall)\n",
        "print('f1 = ', f1, '\\n')\n",
        "\n",
        "\n",
        "\n",
        "\n",
        "\n",
        "\n",
        "\n",
        "\n",
        "\n",
        "\n",
        "\n",
        "\n",
        "\n",
        "\n",
        "\n",
        "print('Linear kernel:')\n",
        "lssvc = LSSVC(gamma=1, kernel='linear')\n",
        "\n",
        "start_time = time.time()\n",
        "lssvc.fit(X_tr_norm, y_train) # Fitting the model\n",
        "end_time = time.time()\n",
        "training_time_seconds = end_time - start_time\n",
        "training_time_formatted = time.strftime(\"%H:%M:%S\", time.gmtime(training_time_seconds))\n",
        "print(f\"Total training time: {training_time_formatted}\")\n",
        "\n",
        "\n",
        "y_pred = lssvc.predict(X_ts_norm)\n",
        "acc = accuracy_score(dummie2multilabel(y_test), dummie2multilabel(y_pred))\n",
        "precision = precision_score(dummie2multilabel(y_test), dummie2multilabel(y_pred), average='weighted')\n",
        "recall = recall_score(dummie2multilabel(y_test), dummie2multilabel(y_pred), average='weighted')\n",
        "f1 = f1_score(dummie2multilabel(y_test), dummie2multilabel(y_pred), average='weighted')\n",
        "print('acc_test = ', acc)\n",
        "print('precision = ', precision)\n",
        "print('recall = ', recall)\n",
        "print('f1 = ', f1, '\\n')"
      ]
    },
    {
      "cell_type": "code",
      "source": [
        " !pip install -q kaggle"
      ],
      "metadata": {
        "id": "Pn1UdvQ2blBa"
      },
      "execution_count": null,
      "outputs": []
    },
    {
      "cell_type": "code",
      "source": [
        "from google.colab import drive\n",
        "drive.mount('/content/drive')"
      ],
      "metadata": {
        "colab": {
          "base_uri": "https://localhost:8080/"
        },
        "id": "KL_J2DMubyUi",
        "outputId": "c5dd0903-ff32-4874-a4fd-4caf43a704c2"
      },
      "execution_count": null,
      "outputs": [
        {
          "output_type": "stream",
          "name": "stdout",
          "text": [
            "Drive already mounted at /content/drive; to attempt to forcibly remount, call drive.mount(\"/content/drive\", force_remount=True).\n"
          ]
        }
      ]
    },
    {
      "cell_type": "code",
      "execution_count": null,
      "metadata": {
        "colab": {
          "base_uri": "https://localhost:8080/",
          "height": 460
        },
        "id": "UQvsWturGcmN",
        "outputId": "db2814e3-1475-4f92-d9a2-d9b16f4ec0ce"
      },
      "outputs": [
        {
          "output_type": "display_data",
          "data": {
            "text/plain": [
              "<IPython.core.display.HTML object>"
            ],
            "text/html": [
              "\n",
              "     <input type=\"file\" id=\"files-9ebc8ddc-1f0d-4672-b030-276b9d41d06e\" name=\"files[]\" multiple disabled\n",
              "        style=\"border:none\" />\n",
              "     <output id=\"result-9ebc8ddc-1f0d-4672-b030-276b9d41d06e\">\n",
              "      Upload widget is only available when the cell has been executed in the\n",
              "      current browser session. Please rerun this cell to enable.\n",
              "      </output>\n",
              "      <script>// Copyright 2017 Google LLC\n",
              "//\n",
              "// Licensed under the Apache License, Version 2.0 (the \"License\");\n",
              "// you may not use this file except in compliance with the License.\n",
              "// You may obtain a copy of the License at\n",
              "//\n",
              "//      http://www.apache.org/licenses/LICENSE-2.0\n",
              "//\n",
              "// Unless required by applicable law or agreed to in writing, software\n",
              "// distributed under the License is distributed on an \"AS IS\" BASIS,\n",
              "// WITHOUT WARRANTIES OR CONDITIONS OF ANY KIND, either express or implied.\n",
              "// See the License for the specific language governing permissions and\n",
              "// limitations under the License.\n",
              "\n",
              "/**\n",
              " * @fileoverview Helpers for google.colab Python module.\n",
              " */\n",
              "(function(scope) {\n",
              "function span(text, styleAttributes = {}) {\n",
              "  const element = document.createElement('span');\n",
              "  element.textContent = text;\n",
              "  for (const key of Object.keys(styleAttributes)) {\n",
              "    element.style[key] = styleAttributes[key];\n",
              "  }\n",
              "  return element;\n",
              "}\n",
              "\n",
              "// Max number of bytes which will be uploaded at a time.\n",
              "const MAX_PAYLOAD_SIZE = 100 * 1024;\n",
              "\n",
              "function _uploadFiles(inputId, outputId) {\n",
              "  const steps = uploadFilesStep(inputId, outputId);\n",
              "  const outputElement = document.getElementById(outputId);\n",
              "  // Cache steps on the outputElement to make it available for the next call\n",
              "  // to uploadFilesContinue from Python.\n",
              "  outputElement.steps = steps;\n",
              "\n",
              "  return _uploadFilesContinue(outputId);\n",
              "}\n",
              "\n",
              "// This is roughly an async generator (not supported in the browser yet),\n",
              "// where there are multiple asynchronous steps and the Python side is going\n",
              "// to poll for completion of each step.\n",
              "// This uses a Promise to block the python side on completion of each step,\n",
              "// then passes the result of the previous step as the input to the next step.\n",
              "function _uploadFilesContinue(outputId) {\n",
              "  const outputElement = document.getElementById(outputId);\n",
              "  const steps = outputElement.steps;\n",
              "\n",
              "  const next = steps.next(outputElement.lastPromiseValue);\n",
              "  return Promise.resolve(next.value.promise).then((value) => {\n",
              "    // Cache the last promise value to make it available to the next\n",
              "    // step of the generator.\n",
              "    outputElement.lastPromiseValue = value;\n",
              "    return next.value.response;\n",
              "  });\n",
              "}\n",
              "\n",
              "/**\n",
              " * Generator function which is called between each async step of the upload\n",
              " * process.\n",
              " * @param {string} inputId Element ID of the input file picker element.\n",
              " * @param {string} outputId Element ID of the output display.\n",
              " * @return {!Iterable<!Object>} Iterable of next steps.\n",
              " */\n",
              "function* uploadFilesStep(inputId, outputId) {\n",
              "  const inputElement = document.getElementById(inputId);\n",
              "  inputElement.disabled = false;\n",
              "\n",
              "  const outputElement = document.getElementById(outputId);\n",
              "  outputElement.innerHTML = '';\n",
              "\n",
              "  const pickedPromise = new Promise((resolve) => {\n",
              "    inputElement.addEventListener('change', (e) => {\n",
              "      resolve(e.target.files);\n",
              "    });\n",
              "  });\n",
              "\n",
              "  const cancel = document.createElement('button');\n",
              "  inputElement.parentElement.appendChild(cancel);\n",
              "  cancel.textContent = 'Cancel upload';\n",
              "  const cancelPromise = new Promise((resolve) => {\n",
              "    cancel.onclick = () => {\n",
              "      resolve(null);\n",
              "    };\n",
              "  });\n",
              "\n",
              "  // Wait for the user to pick the files.\n",
              "  const files = yield {\n",
              "    promise: Promise.race([pickedPromise, cancelPromise]),\n",
              "    response: {\n",
              "      action: 'starting',\n",
              "    }\n",
              "  };\n",
              "\n",
              "  cancel.remove();\n",
              "\n",
              "  // Disable the input element since further picks are not allowed.\n",
              "  inputElement.disabled = true;\n",
              "\n",
              "  if (!files) {\n",
              "    return {\n",
              "      response: {\n",
              "        action: 'complete',\n",
              "      }\n",
              "    };\n",
              "  }\n",
              "\n",
              "  for (const file of files) {\n",
              "    const li = document.createElement('li');\n",
              "    li.append(span(file.name, {fontWeight: 'bold'}));\n",
              "    li.append(span(\n",
              "        `(${file.type || 'n/a'}) - ${file.size} bytes, ` +\n",
              "        `last modified: ${\n",
              "            file.lastModifiedDate ? file.lastModifiedDate.toLocaleDateString() :\n",
              "                                    'n/a'} - `));\n",
              "    const percent = span('0% done');\n",
              "    li.appendChild(percent);\n",
              "\n",
              "    outputElement.appendChild(li);\n",
              "\n",
              "    const fileDataPromise = new Promise((resolve) => {\n",
              "      const reader = new FileReader();\n",
              "      reader.onload = (e) => {\n",
              "        resolve(e.target.result);\n",
              "      };\n",
              "      reader.readAsArrayBuffer(file);\n",
              "    });\n",
              "    // Wait for the data to be ready.\n",
              "    let fileData = yield {\n",
              "      promise: fileDataPromise,\n",
              "      response: {\n",
              "        action: 'continue',\n",
              "      }\n",
              "    };\n",
              "\n",
              "    // Use a chunked sending to avoid message size limits. See b/62115660.\n",
              "    let position = 0;\n",
              "    do {\n",
              "      const length = Math.min(fileData.byteLength - position, MAX_PAYLOAD_SIZE);\n",
              "      const chunk = new Uint8Array(fileData, position, length);\n",
              "      position += length;\n",
              "\n",
              "      const base64 = btoa(String.fromCharCode.apply(null, chunk));\n",
              "      yield {\n",
              "        response: {\n",
              "          action: 'append',\n",
              "          file: file.name,\n",
              "          data: base64,\n",
              "        },\n",
              "      };\n",
              "\n",
              "      let percentDone = fileData.byteLength === 0 ?\n",
              "          100 :\n",
              "          Math.round((position / fileData.byteLength) * 100);\n",
              "      percent.textContent = `${percentDone}% done`;\n",
              "\n",
              "    } while (position < fileData.byteLength);\n",
              "  }\n",
              "\n",
              "  // All done.\n",
              "  yield {\n",
              "    response: {\n",
              "      action: 'complete',\n",
              "    }\n",
              "  };\n",
              "}\n",
              "\n",
              "scope.google = scope.google || {};\n",
              "scope.google.colab = scope.google.colab || {};\n",
              "scope.google.colab._files = {\n",
              "  _uploadFiles,\n",
              "  _uploadFilesContinue,\n",
              "};\n",
              "})(self);\n",
              "</script> "
            ]
          },
          "metadata": {}
        },
        {
          "output_type": "stream",
          "name": "stdout",
          "text": [
            "Saving kaggle.json to kaggle.json\n",
            "Collecting opendatasets\n",
            "  Downloading opendatasets-0.1.22-py3-none-any.whl (15 kB)\n",
            "Requirement already satisfied: tqdm in /usr/local/lib/python3.10/dist-packages (from opendatasets) (4.66.1)\n",
            "Requirement already satisfied: kaggle in /usr/local/lib/python3.10/dist-packages (from opendatasets) (1.5.16)\n",
            "Requirement already satisfied: click in /usr/local/lib/python3.10/dist-packages (from opendatasets) (8.1.7)\n",
            "Requirement already satisfied: six>=1.10 in /usr/local/lib/python3.10/dist-packages (from kaggle->opendatasets) (1.16.0)\n",
            "Requirement already satisfied: certifi in /usr/local/lib/python3.10/dist-packages (from kaggle->opendatasets) (2023.11.17)\n",
            "Requirement already satisfied: python-dateutil in /usr/local/lib/python3.10/dist-packages (from kaggle->opendatasets) (2.8.2)\n",
            "Requirement already satisfied: requests in /usr/local/lib/python3.10/dist-packages (from kaggle->opendatasets) (2.31.0)\n",
            "Requirement already satisfied: python-slugify in /usr/local/lib/python3.10/dist-packages (from kaggle->opendatasets) (8.0.1)\n",
            "Requirement already satisfied: urllib3 in /usr/local/lib/python3.10/dist-packages (from kaggle->opendatasets) (2.0.7)\n",
            "Requirement already satisfied: bleach in /usr/local/lib/python3.10/dist-packages (from kaggle->opendatasets) (6.1.0)\n",
            "Requirement already satisfied: webencodings in /usr/local/lib/python3.10/dist-packages (from bleach->kaggle->opendatasets) (0.5.1)\n",
            "Requirement already satisfied: text-unidecode>=1.3 in /usr/local/lib/python3.10/dist-packages (from python-slugify->kaggle->opendatasets) (1.3)\n",
            "Requirement already satisfied: charset-normalizer<4,>=2 in /usr/local/lib/python3.10/dist-packages (from requests->kaggle->opendatasets) (3.3.2)\n",
            "Requirement already satisfied: idna<4,>=2.5 in /usr/local/lib/python3.10/dist-packages (from requests->kaggle->opendatasets) (3.6)\n",
            "Installing collected packages: opendatasets\n",
            "Successfully installed opendatasets-0.1.22\n",
            "Downloading fruits.zip to ./fruits\n"
          ]
        },
        {
          "output_type": "stream",
          "name": "stderr",
          "text": [
            "100%|██████████| 1.28G/1.28G [00:54<00:00, 25.5MB/s]\n"
          ]
        },
        {
          "output_type": "stream",
          "name": "stdout",
          "text": [
            "\n"
          ]
        }
      ],
      "source": [
        "import os\n",
        "import torch\n",
        "import torchvision\n",
        "import tarfile\n",
        "import torch.nn as nn\n",
        "import numpy as np\n",
        "import torch.nn.functional as F\n",
        "from torchvision.datasets.utils import download_url\n",
        "from torchvision.datasets import ImageFolder\n",
        "from torch.utils.data import DataLoader\n",
        "from torchvision.transforms import ToTensor\n",
        "import torchvision.transforms as tt\n",
        "from torch.utils.data import random_split\n",
        "from torchvision.utils import make_grid\n",
        "import matplotlib\n",
        "import matplotlib.pyplot as plt\n",
        "%matplotlib inline\n",
        "\n",
        "import warnings\n",
        "warnings.filterwarnings(\"ignore\")\n",
        "\n",
        "# Upload kaggle.json\n",
        "# please follow this link incase not aware: https://www.kaggle.com/general/74235\n",
        "from google.colab import files\n",
        "files.upload()\n",
        "\n",
        "! pip install opendatasets --upgrade\n",
        "import opendatasets as od\n",
        "\n",
        "dataset_url = 'https://www.kaggle.com/moltean/fruits'\n",
        "od.download(dataset_url)"
      ]
    },
    {
      "cell_type": "code",
      "source": [
        "!ls fruits/fruits-360_dataset/fruits-360\n"
      ],
      "metadata": {
        "colab": {
          "base_uri": "https://localhost:8080/"
        },
        "id": "7WgdjLQIjoEM",
        "outputId": "4a3beb99-30ab-4b25-e176-55717472da16"
      },
      "execution_count": null,
      "outputs": [
        {
          "output_type": "stream",
          "name": "stdout",
          "text": [
            "LICENSE  papers  readme.md  Test  test-multiple_fruits\tTraining\n"
          ]
        }
      ]
    },
    {
      "cell_type": "code",
      "source": [
        "import numpy as np\n",
        "import cv2\n",
        "import glob\n",
        "import os\n",
        "import matplotlib.pyplot as plt\n",
        "import string\n",
        "from mlxtend.plotting import plot_decision_regions\n",
        "from mpl_toolkits.mplot3d import Axes3D\n",
        "from sklearn.decomposition import PCA\n",
        "from sklearn.preprocessing import StandardScaler\n",
        "from sklearn.neighbors import KNeighborsClassifier\n",
        "from sklearn.tree import DecisionTreeClassifier\n",
        "from sklearn.model_selection import train_test_split, cross_val_score\n",
        "from sklearn.utils.multiclass import unique_labels\n",
        "from sklearn import metrics\n",
        "from sklearn.svm import SVC\n",
        "\n",
        "import torch\n",
        "import torchvision.transforms as transforms\n",
        "from torchvision.datasets import ImageFolder\n",
        "from torch.utils.data import DataLoader, random_split\n",
        "from sklearn.model_selection import train_test_split\n",
        "from sklearn.preprocessing import MinMaxScaler\n",
        "import numpy as np\n",
        "from torch.utils.data import Dataset\n",
        "import os\n",
        "import PIL.Image as Image\n",
        "\n",
        "\n",
        "\n",
        "# --- Step 1: Load the Fruits 360 Dataset ---\n",
        "data_dir = 'fruits/fruits-360_dataset/fruits-360/'\n",
        "dim = 100\n",
        "def getYourFruits(fruits, data_type, print_n=False, k_fold=False):\n",
        "    images = []\n",
        "    labels = []\n",
        "    val = ['Training', 'Test']\n",
        "    if not k_fold:\n",
        "        path = data_dir + data_type + \"/\"\n",
        "        for i,f in enumerate(fruits):\n",
        "            p = path + f\n",
        "            j=0\n",
        "            for image_path in glob.glob(os.path.join(p, \"*.jpg\")):\n",
        "                image = cv2.imread(image_path, cv2.IMREAD_COLOR)\n",
        "                image = cv2.resize(image, (dim, dim))\n",
        "                image = cv2.cvtColor(image, cv2.COLOR_RGB2BGR)\n",
        "                images.append(image)\n",
        "                labels.append(i)\n",
        "                j+=1\n",
        "            if(print_n):\n",
        "                print(\"There are \" , j , \" \" , data_type.upper(), \" images of \" , fruits[i].upper())\n",
        "        images = np.array(images)\n",
        "        labels = np.array(labels)\n",
        "        return images, labels\n",
        "    else:\n",
        "        for v in val:\n",
        "            path = data_dir + v + \"/\"\n",
        "            for i,f in enumerate(fruits):\n",
        "                p = path + f\n",
        "                j=0\n",
        "                for image_path in glob.glob(os.path.join(p, \"*.jpg\")):\n",
        "                    image = cv2.imread(image_path, cv2.IMREAD_COLOR)\n",
        "                    image = cv2.resize(image, (dim, dim))\n",
        "                    image = cv2.cvtColor(image, cv2.COLOR_RGB2BGR)\n",
        "                    images.append(image)\n",
        "                    labels.append(i)\n",
        "                    j+=1\n",
        "        images = np.array(images)\n",
        "        labels = np.array(labels)\n",
        "        return images, labels\n",
        "\n",
        "def getAllFruits():\n",
        "    fruits = []\n",
        "    for fruit_path in gl:\n",
        "      ob.glob(data_dir + \"Training/*\")\n",
        "      fruit = fruit_path.split(\"/\")[-1]\n",
        "      fruits.append(fruit)\n",
        "    return fruits\n",
        "\n",
        "\n",
        "selected_classes = ['Apple', 'Banana', 'Cherry']\n",
        "\n"
      ],
      "metadata": {
        "id": "MFrCN7xJzHPv"
      },
      "execution_count": null,
      "outputs": []
    },
    {
      "cell_type": "code",
      "source": [
        "# Select Fruits\n",
        "fruits = ['Banana' , 'Cherry 1'] #Binary classification\n",
        "\n",
        "#Get Images and Labels\n",
        "X_t, y_train =  getYourFruits(fruits, 'Training', print_n=True, k_fold=False)\n",
        "X_test, y_test = getYourFruits(fruits, 'Test', print_n=True, k_fold=False)\n",
        "\n",
        "#Get data for k-fold\n",
        "X,y = getYourFruits(fruits, '', print_n=True, k_fold=True)\n",
        "\n",
        "#Scale Data Images\n",
        "scaler = StandardScaler()\n",
        "X_tr_norm = scaler.fit_transform([i.flatten() for i in X_t])\n",
        "X_ts_norm = scaler.fit_transform([i.flatten() for i in X_test])\n",
        "X = scaler.fit_transform([i.flatten() for i in X])\n",
        "\n",
        "# Get information about input and outputs\n",
        "print(f\"X_train.shape: {X_tr_norm.shape}\")\n",
        "print(f\"X_test.shape:  {X_ts_norm.shape}\")\n",
        "print(f\"y_train.shape: {y_train.shape}\")\n",
        "print(f\"y_test.shape:  {y_test.shape}\")\n",
        "print(f\"np.unique(y_train): {np.unique(y_train)}\")\n",
        "print(f\"np.unique(y_test):  {np.unique(y_test)}\")\n"
      ],
      "metadata": {
        "colab": {
          "base_uri": "https://localhost:8080/"
        },
        "id": "gM3PkLr6cLuF",
        "outputId": "cff61f52-201f-4a06-9351-2ae5777822ab"
      },
      "execution_count": null,
      "outputs": [
        {
          "output_type": "stream",
          "name": "stdout",
          "text": [
            "There are  490   TRAINING  images of  BANANA\n",
            "There are  492   TRAINING  images of  CHERRY 1\n",
            "There are  166   TEST  images of  BANANA\n",
            "There are  164   TEST  images of  CHERRY 1\n",
            "X_train.shape: (982, 30000)\n",
            "X_test.shape:  (330, 30000)\n",
            "y_train.shape: (982,)\n",
            "y_test.shape:  (330,)\n",
            "np.unique(y_train): [0 1]\n",
            "np.unique(y_test):  [0 1]\n"
          ]
        }
      ]
    },
    {
      "cell_type": "code",
      "execution_count": null,
      "metadata": {
        "colab": {
          "base_uri": "https://localhost:8080/"
        },
        "id": "TgV1YO1Elmk4",
        "outputId": "e9d6ea25-9258-4e89-b330-087d51bc90fc"
      },
      "outputs": [
        {
          "output_type": "stream",
          "name": "stdout",
          "text": [
            "Fruits 360\n",
            "Gaussian kernel:\n"
          ]
        },
        {
          "output_type": "stream",
          "name": "stderr",
          "text": [
            "/usr/local/lib/python3.10/dist-packages/sklearn/metrics/_classification.py:1344: UndefinedMetricWarning: Precision is ill-defined and being set to 0.0 in labels with no predicted samples. Use `zero_division` parameter to control this behavior.\n",
            "  _warn_prf(average, modifier, msg_start, len(result))\n"
          ]
        },
        {
          "output_type": "stream",
          "name": "stdout",
          "text": [
            "acc_test =  0.49696969696969695\n",
            "precision =  0.24697887970615243\n",
            "recall =  0.49696969696969695\n",
            "f1 =  0.3299717826033615 \n",
            "\n",
            "Polynomial kernel:\n",
            "acc_test =  0.9848484848484849\n",
            "precision =  0.9852915116073012\n",
            "recall =  0.9848484848484849\n",
            "f1 =  0.9848436130234184 \n",
            "\n",
            "Linear kernel:\n",
            "acc_test =  1.0\n",
            "precision =  1.0\n",
            "recall =  1.0\n",
            "f1 =  1.0 \n",
            "\n"
          ]
        }
      ],
      "source": [
        "# Use the classifier with different kernels\n",
        "print(\"Fruits 360\")\n",
        "print('Gaussian kernel:')\n",
        "lssvc = LSSVC(gamma=1, kernel='rbf', sigma=.5) # Class instantiation\n",
        "lssvc.fit(X_tr_norm, y_train) # Fitting the model\n",
        "y_pred = lssvc.predict(X_ts_norm) # Making predictions with the trained model\n",
        "acc = accuracy_score(dummie2multilabel(y_test), dummie2multilabel(y_pred)) # Calculate Accuracy\n",
        "precision = precision_score(dummie2multilabel(y_test), dummie2multilabel(y_pred), average='weighted')\n",
        "recall = recall_score(dummie2multilabel(y_test), dummie2multilabel(y_pred), average='weighted')\n",
        "f1 = f1_score(dummie2multilabel(y_test), dummie2multilabel(y_pred), average='weighted')\n",
        "print('acc_test = ', acc)\n",
        "print('precision = ', precision)\n",
        "print('recall = ', recall)\n",
        "print('f1 = ', f1, '\\n')\n",
        "\n",
        "print('Polynomial kernel:')\n",
        "lssvc = LSSVC(gamma=1, kernel='poly', d=2)\n",
        "lssvc.fit(X_tr_norm, y_train)\n",
        "y_pred = lssvc.predict(X_ts_norm)\n",
        "acc = accuracy_score(dummie2multilabel(y_test), dummie2multilabel(y_pred))\n",
        "precision = precision_score(dummie2multilabel(y_test), dummie2multilabel(y_pred), average='weighted')\n",
        "recall = recall_score(dummie2multilabel(y_test), dummie2multilabel(y_pred), average='weighted')\n",
        "f1 = f1_score(dummie2multilabel(y_test), dummie2multilabel(y_pred), average='weighted')\n",
        "print('acc_test = ', acc)\n",
        "print('precision = ', precision)\n",
        "print('recall = ', recall)\n",
        "print('f1 = ', f1, '\\n')\n",
        "\n",
        "print('Linear kernel:')\n",
        "lssvc = LSSVC(gamma=1, kernel='linear')\n",
        "lssvc.fit(X_tr_norm, y_train)\n",
        "y_pred = lssvc.predict(X_ts_norm)\n",
        "acc = accuracy_score(dummie2multilabel(y_test), dummie2multilabel(y_pred))\n",
        "precision = precision_score(dummie2multilabel(y_test), dummie2multilabel(y_pred), average='weighted')\n",
        "recall = recall_score(dummie2multilabel(y_test), dummie2multilabel(y_pred), average='weighted')\n",
        "f1 = f1_score(dummie2multilabel(y_test), dummie2multilabel(y_pred), average='weighted')\n",
        "print('acc_test = ', acc)\n",
        "print('precision = ', precision)\n",
        "print('recall = ', recall)\n",
        "print('f1 = ', f1, '\\n')"
      ]
    },
    {
      "cell_type": "code",
      "execution_count": null,
      "metadata": {
        "id": "DZpeLAJ8em1S",
        "colab": {
          "base_uri": "https://localhost:8080/"
        },
        "outputId": "9bc5ad1e-c08d-41b6-9e4a-ebd98e501b77"
      },
      "outputs": [
        {
          "output_type": "stream",
          "name": "stdout",
          "text": [
            "Fruits 360\n",
            "Gaussian kernel:\n"
          ]
        },
        {
          "output_type": "stream",
          "name": "stderr",
          "text": [
            "/usr/local/lib/python3.10/dist-packages/sklearn/metrics/_classification.py:1344: UndefinedMetricWarning: Precision is ill-defined and being set to 0.0 in labels with no predicted samples. Use `zero_division` parameter to control this behavior.\n",
            "  _warn_prf(average, modifier, msg_start, len(result))\n"
          ]
        },
        {
          "output_type": "stream",
          "name": "stdout",
          "text": [
            "acc_test =  0.49696969696969695\n",
            "precision =  0.24697887970615243\n",
            "recall =  0.49696969696969695\n",
            "f1 =  0.3299717826033615 \n",
            "\n",
            "Fruits 360\n",
            "Gaussian kernel:\n"
          ]
        },
        {
          "output_type": "stream",
          "name": "stderr",
          "text": [
            "/usr/local/lib/python3.10/dist-packages/sklearn/metrics/_classification.py:1344: UndefinedMetricWarning: Precision is ill-defined and being set to 0.0 in labels with no predicted samples. Use `zero_division` parameter to control this behavior.\n",
            "  _warn_prf(average, modifier, msg_start, len(result))\n"
          ]
        },
        {
          "output_type": "stream",
          "name": "stdout",
          "text": [
            "acc_test =  0.49696969696969695\n",
            "precision =  0.24697887970615243\n",
            "recall =  0.49696969696969695\n",
            "f1 =  0.3299717826033615 \n",
            "\n",
            "Fruits 360\n",
            "Gaussian kernel:\n"
          ]
        },
        {
          "output_type": "stream",
          "name": "stderr",
          "text": [
            "/usr/local/lib/python3.10/dist-packages/sklearn/metrics/_classification.py:1344: UndefinedMetricWarning: Precision is ill-defined and being set to 0.0 in labels with no predicted samples. Use `zero_division` parameter to control this behavior.\n",
            "  _warn_prf(average, modifier, msg_start, len(result))\n"
          ]
        },
        {
          "output_type": "stream",
          "name": "stdout",
          "text": [
            "acc_test =  0.49696969696969695\n",
            "precision =  0.24697887970615243\n",
            "recall =  0.49696969696969695\n",
            "f1 =  0.3299717826033615 \n",
            "\n",
            "Fruits 360\n",
            "Gaussian kernel:\n",
            "acc_test =  0.9121212121212121\n",
            "precision =  0.9253257968283874\n",
            "recall =  0.9121212121212121\n",
            "f1 =  0.911485098089641 \n",
            "\n"
          ]
        }
      ],
      "source": [
        "print(\"Fruits 360\")\n",
        "print('Gaussian kernel:')\n",
        "lssvc = LSSVC(gamma=1, kernel='rbf', sigma=.1) # Class instantiation\n",
        "lssvc.fit(X_tr_norm, y_train) # Fitting the model\n",
        "y_pred = lssvc.predict(X_ts_norm) # Making predictions with the trained model\n",
        "acc = accuracy_score(dummie2multilabel(y_test), dummie2multilabel(y_pred)) # Calculate Accuracy\n",
        "precision = precision_score(dummie2multilabel(y_test), dummie2multilabel(y_pred), average='weighted')\n",
        "recall = recall_score(dummie2multilabel(y_test), dummie2multilabel(y_pred), average='weighted')\n",
        "f1 = f1_score(dummie2multilabel(y_test), dummie2multilabel(y_pred), average='weighted')\n",
        "print('acc_test = ', acc)\n",
        "print('precision = ', precision)\n",
        "print('recall = ', recall)\n",
        "print('f1 = ', f1, '\\n')\n",
        "\n",
        "print(\"Fruits 360\")\n",
        "print('Gaussian kernel:')\n",
        "lssvc = LSSVC(gamma=1, kernel='rbf', sigma=.5) # Class instantiation\n",
        "lssvc.fit(X_tr_norm, y_train) # Fitting the model\n",
        "y_pred = lssvc.predict(X_ts_norm) # Making predictions with the trained model\n",
        "acc = accuracy_score(dummie2multilabel(y_test), dummie2multilabel(y_pred)) # Calculate Accuracy\n",
        "precision = precision_score(dummie2multilabel(y_test), dummie2multilabel(y_pred), average='weighted')\n",
        "recall = recall_score(dummie2multilabel(y_test), dummie2multilabel(y_pred), average='weighted')\n",
        "f1 = f1_score(dummie2multilabel(y_test), dummie2multilabel(y_pred), average='weighted')\n",
        "print('acc_test = ', acc)\n",
        "print('precision = ', precision)\n",
        "print('recall = ', recall)\n",
        "print('f1 = ', f1, '\\n')\n",
        "\n",
        "print(\"Fruits 360\")\n",
        "print('Gaussian kernel:')\n",
        "lssvc = LSSVC(gamma=1, kernel='rbf', sigma=.5) # Class instantiation\n",
        "lssvc.fit(X_tr_norm, y_train) # Fitting the model\n",
        "y_pred = lssvc.predict(X_ts_norm) # Making predictions with the trained model\n",
        "acc = accuracy_score(dummie2multilabel(y_test), dummie2multilabel(y_pred)) # Calculate Accuracy\n",
        "precision = precision_score(dummie2multilabel(y_test), dummie2multilabel(y_pred), average='weighted')\n",
        "recall = recall_score(dummie2multilabel(y_test), dummie2multilabel(y_pred), average='weighted')\n",
        "f1 = f1_score(dummie2multilabel(y_test), dummie2multilabel(y_pred), average='weighted')\n",
        "print('acc_test = ', acc)\n",
        "print('precision = ', precision)\n",
        "print('recall = ', recall)\n",
        "print('f1 = ', f1, '\\n')\n",
        "\n",
        "print(\"Fruits 360\")\n",
        "print('Gaussian kernel:')\n",
        "lssvc = LSSVC(gamma=50, kernel='rbf', sigma=50) # Class instantiation\n",
        "lssvc.fit(X_tr_norm, y_train) # Fitting the model\n",
        "y_pred = lssvc.predict(X_ts_norm) # Making predictions with the trained model\n",
        "acc = accuracy_score(dummie2multilabel(y_test), dummie2multilabel(y_pred)) # Calculate Accuracy\n",
        "precision = precision_score(dummie2multilabel(y_test), dummie2multilabel(y_pred), average='weighted')\n",
        "recall = recall_score(dummie2multilabel(y_test), dummie2multilabel(y_pred), average='weighted')\n",
        "f1 = f1_score(dummie2multilabel(y_test), dummie2multilabel(y_pred), average='weighted')\n",
        "print('acc_test = ', acc)\n",
        "print('precision = ', precision)\n",
        "print('recall = ', recall)\n",
        "print('f1 = ', f1, '\\n')\n"
      ]
    },
    {
      "cell_type": "markdown",
      "metadata": {
        "id": "3gNDic6-JIl2"
      },
      "source": [
        "The user may also save the model in JSON format:"
      ]
    },
    {
      "cell_type": "code",
      "execution_count": null,
      "metadata": {
        "id": "Kr0mg_E3JIl2"
      },
      "outputs": [],
      "source": [
        "lssvc.dump('model')\n",
        "loaded_model = LSSVC.load('model')\n",
        "\n",
        "# Showing the same results\n",
        "print('acc_test = ', accuracy_score(\n",
        "        dummie2multilabel(y_test),\n",
        "        dummie2multilabel(lssvc.predict(X_ts_norm))\n",
        "    )\n",
        ")\n",
        "print('acc_test = ', accuracy_score(\n",
        "        dummie2multilabel(y_test),\n",
        "        dummie2multilabel(loaded_model.predict(X_ts_norm))\n",
        "    )\n",
        ")"
      ]
    },
    {
      "cell_type": "markdown",
      "metadata": {
        "id": "DFq6ySNlJIl2"
      },
      "source": [
        "## 2.2 GPU/PyTorch version <a class=\"anchor\" id=\"gpu_version\"></a>    \n",
        "\n",
        "It has the same functionalities and syntax of the CPU version, the difference is the use of PyTorch to run the operations on the GPU."
      ]
    },
    {
      "cell_type": "code",
      "execution_count": null,
      "metadata": {
        "id": "bbIgO6ZJJIl2"
      },
      "outputs": [],
      "source": [
        "# Use the classifier with different kernels\n",
        "\n",
        "print('Gaussian kernel:')\n",
        "lssvc_gpu = LSSVC_GPU(gamma=1, kernel='rbf', sigma=.5)\n",
        "lssvc_gpu.fit(X_tr_norm, y_train)\n",
        "y_pred = lssvc_gpu.predict(X_ts_norm).cpu()\n",
        "print('acc_test = ', accuracy_score(dummie2multilabel(y_test), dummie2multilabel(y_pred)), '\\n')\n",
        "\n",
        "print('Polynomial kernel:')\n",
        "lssvc_gpu = LSSVC_GPU(gamma=1, kernel='poly', d=2)\n",
        "lssvc_gpu.fit(X_tr_norm, y_train)\n",
        "y_pred = lssvc_gpu.predict(X_ts_norm).cpu()\n",
        "print('acc_test = ', accuracy_score(dummie2multilabel(y_test), dummie2multilabel(y_pred)), '\\n')\n",
        "\n",
        "print('Linear kernel:')\n",
        "lssvc_gpu = LSSVC_GPU(gamma=1, kernel='linear')\n",
        "lssvc_gpu.fit(X_tr_norm, y_train)\n",
        "y_pred = lssvc_gpu.predict(X_ts_norm).cpu()\n",
        "print('acc_test = ', accuracy_score(dummie2multilabel(y_test), dummie2multilabel(y_pred)), '\\n')"
      ]
    },
    {
      "cell_type": "markdown",
      "metadata": {
        "id": "njb5fP_LJIl3"
      },
      "source": [
        "The user may also save the model in JSON format:"
      ]
    },
    {
      "cell_type": "code",
      "execution_count": null,
      "metadata": {
        "id": "sZwITuvcJIl3"
      },
      "outputs": [],
      "source": [
        "lssvc_gpu.dump('model')\n",
        "loaded_model = LSSVC_GPU.load('model')\n",
        "\n",
        "# Showing the same results\n",
        "print('acc_test = ', accuracy_score(\n",
        "        dummie2multilabel(y_test),\n",
        "        dummie2multilabel(lssvc_gpu.predict(X_ts_norm).cpu())\n",
        "    )\n",
        ")\n",
        "print('acc_test = ', accuracy_score(\n",
        "        dummie2multilabel(y_test),\n",
        "        dummie2multilabel(loaded_model.predict(X_ts_norm).cpu())\n",
        "    )\n",
        ")"
      ]
    },
    {
      "cell_type": "markdown",
      "metadata": {
        "id": "XbOVgsQ8JIl3"
      },
      "source": [
        "The `model.json` is the same for the CPU and GPU version, giving the developer the possibility to train a model in GPU, dumping it in a .json, and loading in CPU version (the other way around is also possible)."
      ]
    },
    {
      "cell_type": "code",
      "execution_count": null,
      "metadata": {
        "id": "mzdVAsquJIl3"
      },
      "outputs": [],
      "source": [
        "lssvc.dump('model_from_cpu')\n",
        "lssvc_gpu = LSSVC_GPU.load('model_from_cpu')\n",
        "\n",
        "# Showing the same results\n",
        "print('acc_test = ', accuracy_score(\n",
        "        dummie2multilabel(y_test),\n",
        "        dummie2multilabel(lssvc.predict(X_ts_norm))\n",
        "    )\n",
        ")\n",
        "print('acc_test = ', accuracy_score(\n",
        "        dummie2multilabel(y_test),\n",
        "        dummie2multilabel(lssvc_gpu.predict(X_ts_norm).cpu())\n",
        "    )\n",
        ")"
      ]
    },
    {
      "cell_type": "code",
      "execution_count": null,
      "metadata": {
        "id": "ZrVWQhyhJIl4"
      },
      "outputs": [],
      "source": [
        "lssvc_gpu.dump('model_from_gpu')\n",
        "lssvc = LSSVC.load('model_from_gpu')\n",
        "\n",
        "# Showing the same results\n",
        "print('acc_test = ', accuracy_score(\n",
        "        dummie2multilabel(y_test),\n",
        "        dummie2multilabel(lssvc_gpu.predict(X_ts_norm).cpu())\n",
        "    )\n",
        ")\n",
        "print('acc_test = ', accuracy_score(\n",
        "        dummie2multilabel(y_test),\n",
        "        dummie2multilabel(lssvc.predict(X_ts_norm))\n",
        "    )\n",
        ")"
      ]
    }
  ],
  "metadata": {
    "colab": {
      "collapsed_sections": [
        "iXxsEfD-JIlv",
        "DFq6ySNlJIl2"
      ],
      "machine_shape": "hm",
      "provenance": []
    },
    "kernelspec": {
      "display_name": "Python 3",
      "name": "python3"
    },
    "language_info": {
      "codemirror_mode": {
        "name": "ipython",
        "version": 3
      },
      "file_extension": ".py",
      "mimetype": "text/x-python",
      "name": "python",
      "nbconvert_exporter": "python",
      "pygments_lexer": "ipython3",
      "version": "3.8.5"
    }
  },
  "nbformat": 4,
  "nbformat_minor": 0
}